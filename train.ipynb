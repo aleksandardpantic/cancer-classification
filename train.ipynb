{
 "cells": [
  {
   "cell_type": "code",
   "execution_count": 1,
   "outputs": [],
   "source": [
    "weights_format = \"model/weights/weights-{epoch:02d}-{loss:.4f}.hdf5\""
   ],
   "metadata": {
    "collapsed": false
   }
  },
  {
   "cell_type": "code",
   "execution_count": 2,
   "metadata": {
    "collapsed": true
   },
   "outputs": [],
   "source": [
    "import pandas as pd\n",
    "import numpy as np\n",
    "\n",
    "X_train = pd.read_csv('data/X_train.csv').values\n",
    "X_test = pd.read_csv('data/X_test.csv').values\n",
    "\n",
    "y_train = pd.read_csv('data/y_train.csv').values\n",
    "y_test = pd.read_csv('data/y_test.csv').values"
   ]
  },
  {
   "cell_type": "code",
   "execution_count": 3,
   "outputs": [],
   "source": [
    "from keras.callbacks import ModelCheckpoint, EarlyStopping\n",
    "\n",
    "\n",
    "checkpoint = ModelCheckpoint(\n",
    "    weights_format,\n",
    "    monitor='loss',  # loss je parametar treniranja\n",
    "    verbose=1,  # 1 da prikazuje svaki callback, ne treba\n",
    "    save_best_only=True,  # svaka iteracija pamti samo najbolje tezine\n",
    "    mode='min'  # ako treba da se overwrituje fajl, zapamti sa manjim lossom\n",
    ")\n",
    "early_stopping = EarlyStopping(monitor='loss',\n",
    "                               min_delta=0.01,  # najmanja promena u odnosu na prethodnu epohu\n",
    "                               patience=3,\n",
    "                               # broj epoha sa promenom manjom od delta vrednosti nakon ceka trening staje\n",
    "                               verbose=1,  # da prikaze zasto je trening zaustavljen\n",
    "                               restore_best_weights=True)"
   ],
   "metadata": {
    "collapsed": false
   }
  },
  {
   "cell_type": "code",
   "execution_count": 4,
   "outputs": [
    {
     "name": "stderr",
     "output_type": "stream",
     "text": [
      "WARNING:absl:Skipping variable loading for optimizer 'Adam', because it has 17 variables whereas the saved optimizer has 1 variables. \n"
     ]
    },
    {
     "name": "stdout",
     "output_type": "stream",
     "text": [
      "Epoch 1/200\n",
      "6848/6890 [============================>.] - ETA: 0s - loss: 0.7911 - output_skin_cancer_loss: 0.2942 - output_other_cancer_loss: 0.2929 - output_skin_cancer_accuracy: 0.0977 - output_skin_cancer_recall: 1.0000 - output_skin_cancer_false_negatives: 0.0000e+00 - output_other_cancer_accuracy: 0.0970 - output_other_cancer_recall: 1.0000 - output_other_cancer_false_negatives: 0.0000e+00\n",
      "Epoch 1: loss improved from inf to 0.78973, saving model to model/weights\\weights-01-0.7897.hdf5\n",
      "6890/6890 [==============================] - 11s 1ms/step - loss: 0.7897 - output_skin_cancer_loss: 0.2940 - output_other_cancer_loss: 0.2927 - output_skin_cancer_accuracy: 0.0976 - output_skin_cancer_recall: 1.0000 - output_skin_cancer_false_negatives: 0.0000e+00 - output_other_cancer_accuracy: 0.0970 - output_other_cancer_recall: 1.0000 - output_other_cancer_false_negatives: 0.0000e+00 - val_loss: 0.6190 - val_output_skin_cancer_loss: 0.2753 - val_output_other_cancer_loss: 0.2884 - val_output_skin_cancer_accuracy: 0.0958 - val_output_skin_cancer_recall: 1.0000 - val_output_skin_cancer_false_negatives: 0.0000e+00 - val_output_other_cancer_accuracy: 0.0994 - val_output_other_cancer_recall: 1.0000 - val_output_other_cancer_false_negatives: 0.0000e+00\n",
      "Epoch 2/200\n",
      " 116/6890 [..............................] - ETA: 10s - loss: 0.6111 - output_skin_cancer_loss: 0.2710 - output_other_cancer_loss: 0.2846 - output_skin_cancer_accuracy: 0.0927 - output_skin_cancer_recall: 1.0000 - output_skin_cancer_false_negatives: 0.0000e+00 - output_other_cancer_accuracy: 0.0981 - output_other_cancer_recall: 1.0000 - output_other_cancer_false_negatives: 0.0000e+00"
     ]
    },
    {
     "name": "stderr",
     "output_type": "stream",
     "text": [
      "C:\\Users\\alpan\\anaconda3\\envs\\cancer\\lib\\site-packages\\keras\\src\\engine\\training.py:3000: UserWarning: You are saving your model as an HDF5 file via `model.save()`. This file format is considered legacy. We recommend using instead the native Keras format, e.g. `model.save('my_model.keras')`.\n",
      "  saving_api.save_model(\n"
     ]
    },
    {
     "name": "stdout",
     "output_type": "stream",
     "text": [
      "6885/6890 [============================>.] - ETA: 0s - loss: 0.6116 - output_skin_cancer_loss: 0.2778 - output_other_cancer_loss: 0.2821 - output_skin_cancer_accuracy: 0.0976 - output_skin_cancer_recall: 1.0000 - output_skin_cancer_false_negatives: 0.0000e+00 - output_other_cancer_accuracy: 0.0969 - output_other_cancer_recall: 1.0000 - output_other_cancer_false_negatives: 0.0000e+00\n",
      "Epoch 2: loss improved from 0.78973 to 0.61166, saving model to model/weights\\weights-02-0.6117.hdf5\n",
      "6890/6890 [==============================] - 10s 1ms/step - loss: 0.6117 - output_skin_cancer_loss: 0.2778 - output_other_cancer_loss: 0.2822 - output_skin_cancer_accuracy: 0.0976 - output_skin_cancer_recall: 1.0000 - output_skin_cancer_false_negatives: 0.0000e+00 - output_other_cancer_accuracy: 0.0970 - output_other_cancer_recall: 1.0000 - output_other_cancer_false_negatives: 0.0000e+00 - val_loss: 0.6127 - val_output_skin_cancer_loss: 0.2734 - val_output_other_cancer_loss: 0.2897 - val_output_skin_cancer_accuracy: 0.0958 - val_output_skin_cancer_recall: 1.0000 - val_output_skin_cancer_false_negatives: 0.0000e+00 - val_output_other_cancer_accuracy: 0.0994 - val_output_other_cancer_recall: 1.0000 - val_output_other_cancer_false_negatives: 0.0000e+00\n",
      "Epoch 3/200\n",
      "6885/6890 [============================>.] - ETA: 0s - loss: 0.6048 - output_skin_cancer_loss: 0.2758 - output_other_cancer_loss: 0.2817 - output_skin_cancer_accuracy: 0.0976 - output_skin_cancer_recall: 1.0000 - output_skin_cancer_false_negatives: 0.0000e+00 - output_other_cancer_accuracy: 0.0970 - output_other_cancer_recall: 1.0000 - output_other_cancer_false_negatives: 0.0000e+00\n",
      "Epoch 3: loss improved from 0.61166 to 0.60482, saving model to model/weights\\weights-03-0.6048.hdf5\n",
      "6890/6890 [==============================] - 10s 1ms/step - loss: 0.6048 - output_skin_cancer_loss: 0.2758 - output_other_cancer_loss: 0.2817 - output_skin_cancer_accuracy: 0.0976 - output_skin_cancer_recall: 1.0000 - output_skin_cancer_false_negatives: 0.0000e+00 - output_other_cancer_accuracy: 0.0970 - output_other_cancer_recall: 1.0000 - output_other_cancer_false_negatives: 0.0000e+00 - val_loss: 0.6027 - val_output_skin_cancer_loss: 0.2706 - val_output_other_cancer_loss: 0.2864 - val_output_skin_cancer_accuracy: 0.0958 - val_output_skin_cancer_recall: 1.0000 - val_output_skin_cancer_false_negatives: 0.0000e+00 - val_output_other_cancer_accuracy: 0.0994 - val_output_other_cancer_recall: 1.0000 - val_output_other_cancer_false_negatives: 0.0000e+00\n",
      "Epoch 4/200\n",
      "6870/6890 [============================>.] - ETA: 0s - loss: 0.6017 - output_skin_cancer_loss: 0.2749 - output_other_cancer_loss: 0.2812 - output_skin_cancer_accuracy: 0.0975 - output_skin_cancer_recall: 1.0000 - output_skin_cancer_false_negatives: 0.0000e+00 - output_other_cancer_accuracy: 0.0969 - output_other_cancer_recall: 1.0000 - output_other_cancer_false_negatives: 0.0000e+00\n",
      "Epoch 4: loss improved from 0.60482 to 0.60187, saving model to model/weights\\weights-04-0.6019.hdf5\n",
      "6890/6890 [==============================] - 10s 1ms/step - loss: 0.6019 - output_skin_cancer_loss: 0.2750 - output_other_cancer_loss: 0.2813 - output_skin_cancer_accuracy: 0.0976 - output_skin_cancer_recall: 1.0000 - output_skin_cancer_false_negatives: 0.0000e+00 - output_other_cancer_accuracy: 0.0970 - output_other_cancer_recall: 1.0000 - output_other_cancer_false_negatives: 0.0000e+00 - val_loss: 0.6039 - val_output_skin_cancer_loss: 0.2719 - val_output_other_cancer_loss: 0.2857 - val_output_skin_cancer_accuracy: 0.0958 - val_output_skin_cancer_recall: 1.0000 - val_output_skin_cancer_false_negatives: 0.0000e+00 - val_output_other_cancer_accuracy: 0.0994 - val_output_other_cancer_recall: 1.0000 - val_output_other_cancer_false_negatives: 0.0000e+00\n",
      "Epoch 5/200\n",
      "6888/6890 [============================>.] - ETA: 0s - loss: 0.6001 - output_skin_cancer_loss: 0.2745 - output_other_cancer_loss: 0.2810 - output_skin_cancer_accuracy: 0.0976 - output_skin_cancer_recall: 1.0000 - output_skin_cancer_false_negatives: 0.0000e+00 - output_other_cancer_accuracy: 0.0970 - output_other_cancer_recall: 1.0000 - output_other_cancer_false_negatives: 0.0000e+00\n",
      "Epoch 5: loss improved from 0.60187 to 0.60012, saving model to model/weights\\weights-05-0.6001.hdf5\n",
      "6890/6890 [==============================] - 10s 1ms/step - loss: 0.6001 - output_skin_cancer_loss: 0.2745 - output_other_cancer_loss: 0.2810 - output_skin_cancer_accuracy: 0.0976 - output_skin_cancer_recall: 1.0000 - output_skin_cancer_false_negatives: 0.0000e+00 - output_other_cancer_accuracy: 0.0970 - output_other_cancer_recall: 1.0000 - output_other_cancer_false_negatives: 0.0000e+00 - val_loss: 0.5997 - val_output_skin_cancer_loss: 0.2697 - val_output_other_cancer_loss: 0.2857 - val_output_skin_cancer_accuracy: 0.0958 - val_output_skin_cancer_recall: 1.0000 - val_output_skin_cancer_false_negatives: 0.0000e+00 - val_output_other_cancer_accuracy: 0.0994 - val_output_other_cancer_recall: 1.0000 - val_output_other_cancer_false_negatives: 0.0000e+00\n",
      "Epoch 6/200\n",
      "6883/6890 [============================>.] - ETA: 0s - loss: 0.5988 - output_skin_cancer_loss: 0.2741 - output_other_cancer_loss: 0.2807 - output_skin_cancer_accuracy: 0.0976 - output_skin_cancer_recall: 1.0000 - output_skin_cancer_false_negatives: 0.0000e+00 - output_other_cancer_accuracy: 0.0970 - output_other_cancer_recall: 1.0000 - output_other_cancer_false_negatives: 0.0000e+00\n",
      "Epoch 6: loss improved from 0.60012 to 0.59885, saving model to model/weights\\weights-06-0.5989.hdf5\n",
      "6890/6890 [==============================] - 10s 1ms/step - loss: 0.5989 - output_skin_cancer_loss: 0.2741 - output_other_cancer_loss: 0.2807 - output_skin_cancer_accuracy: 0.0976 - output_skin_cancer_recall: 1.0000 - output_skin_cancer_false_negatives: 0.0000e+00 - output_other_cancer_accuracy: 0.0970 - output_other_cancer_recall: 1.0000 - output_other_cancer_false_negatives: 0.0000e+00 - val_loss: 0.5982 - val_output_skin_cancer_loss: 0.2695 - val_output_other_cancer_loss: 0.2857 - val_output_skin_cancer_accuracy: 0.0958 - val_output_skin_cancer_recall: 1.0000 - val_output_skin_cancer_false_negatives: 0.0000e+00 - val_output_other_cancer_accuracy: 0.0994 - val_output_other_cancer_recall: 1.0000 - val_output_other_cancer_false_negatives: 0.0000e+00\n",
      "Epoch 7/200\n",
      "6862/6890 [============================>.] - ETA: 0s - loss: 0.5980 - output_skin_cancer_loss: 0.2741 - output_other_cancer_loss: 0.2803 - output_skin_cancer_accuracy: 0.0977 - output_skin_cancer_recall: 1.0000 - output_skin_cancer_false_negatives: 0.0000e+00 - output_other_cancer_accuracy: 0.0970 - output_other_cancer_recall: 1.0000 - output_other_cancer_false_negatives: 0.0000e+00\n",
      "Epoch 7: loss improved from 0.59885 to 0.59794, saving model to model/weights\\weights-07-0.5979.hdf5\n",
      "6890/6890 [==============================] - 10s 1ms/step - loss: 0.5979 - output_skin_cancer_loss: 0.2740 - output_other_cancer_loss: 0.2804 - output_skin_cancer_accuracy: 0.0976 - output_skin_cancer_recall: 1.0000 - output_skin_cancer_false_negatives: 0.0000e+00 - output_other_cancer_accuracy: 0.0970 - output_other_cancer_recall: 1.0000 - output_other_cancer_false_negatives: 0.0000e+00 - val_loss: 0.5978 - val_output_skin_cancer_loss: 0.2690 - val_output_other_cancer_loss: 0.2855 - val_output_skin_cancer_accuracy: 0.0958 - val_output_skin_cancer_recall: 1.0000 - val_output_skin_cancer_false_negatives: 0.0000e+00 - val_output_other_cancer_accuracy: 0.0994 - val_output_other_cancer_recall: 1.0000 - val_output_other_cancer_false_negatives: 0.0000e+00\n",
      "Epoch 8/200\n",
      "6876/6890 [============================>.] - ETA: 0s - loss: 0.5973 - output_skin_cancer_loss: 0.2738 - output_other_cancer_loss: 0.2802 - output_skin_cancer_accuracy: 0.0976 - output_skin_cancer_recall: 1.0000 - output_skin_cancer_false_negatives: 0.0000e+00 - output_other_cancer_accuracy: 0.0970 - output_other_cancer_recall: 1.0000 - output_other_cancer_false_negatives: 0.0000e+00\n",
      "Epoch 8: loss improved from 0.59794 to 0.59732, saving model to model/weights\\weights-08-0.5973.hdf5\n",
      "Restoring model weights from the end of the best epoch: 5.\n",
      "6890/6890 [==============================] - 10s 1ms/step - loss: 0.5973 - output_skin_cancer_loss: 0.2738 - output_other_cancer_loss: 0.2801 - output_skin_cancer_accuracy: 0.0976 - output_skin_cancer_recall: 1.0000 - output_skin_cancer_false_negatives: 0.0000e+00 - output_other_cancer_accuracy: 0.0970 - output_other_cancer_recall: 1.0000 - output_other_cancer_false_negatives: 0.0000e+00 - val_loss: 0.5976 - val_output_skin_cancer_loss: 0.2697 - val_output_other_cancer_loss: 0.2847 - val_output_skin_cancer_accuracy: 0.0958 - val_output_skin_cancer_recall: 1.0000 - val_output_skin_cancer_false_negatives: 0.0000e+00 - val_output_other_cancer_accuracy: 0.0994 - val_output_other_cancer_recall: 1.0000 - val_output_other_cancer_false_negatives: 0.0000e+00\n",
      "Epoch 8: early stopping\n"
     ]
    }
   ],
   "source": [
    "from keras import Model\n",
    "from keras.models import load_model\n",
    "\n",
    "model: Model = load_model('model/model_conf.keras')\n",
    "\n",
    "history = model.fit(x = X_train,\n",
    "                    y=[y_train[:,0], y_train[:,1]],\n",
    "                    callbacks=[checkpoint,early_stopping],\n",
    "                    epochs=200,\n",
    "                    verbose=1,\n",
    "                    validation_split=0.1)"
   ],
   "metadata": {
    "collapsed": false
   }
  },
  {
   "cell_type": "code",
   "execution_count": 5,
   "outputs": [
    {
     "name": "stdout",
     "output_type": "stream",
     "text": [
      "1914/1914 [==============================] - 2s 1ms/step - loss: 0.5930 - output_skin_cancer_loss: 0.2720 - output_other_cancer_loss: 0.2767 - output_skin_cancer_accuracy: 0.0975 - output_skin_cancer_recall: 1.0000 - output_skin_cancer_false_negatives: 0.0000e+00 - output_other_cancer_accuracy: 0.0962 - output_other_cancer_recall: 1.0000 - output_other_cancer_false_negatives: 0.0000e+00\n"
     ]
    },
    {
     "data": {
      "text/plain": "[0.5930339694023132,\n 0.27200695872306824,\n 0.27667251229286194,\n 0.09746579080820084,\n 1.0,\n 0.0,\n 0.09624113887548447,\n 1.0,\n 0.0]"
     },
     "execution_count": 5,
     "metadata": {},
     "output_type": "execute_result"
    }
   ],
   "source": [
    "model.evaluate(x=X_test,y=[y_test[:,0],y_test[:,1]])"
   ],
   "metadata": {
    "collapsed": false
   }
  },
  {
   "cell_type": "code",
   "execution_count": 6,
   "outputs": [],
   "source": [
    "from pandas import DataFrame\n",
    "\n",
    "DataFrame(history.history).to_csv('history.csv',index=False)"
   ],
   "metadata": {
    "collapsed": false
   }
  }
 ],
 "metadata": {
  "kernelspec": {
   "display_name": "Python 3",
   "language": "python",
   "name": "python3"
  },
  "language_info": {
   "codemirror_mode": {
    "name": "ipython",
    "version": 2
   },
   "file_extension": ".py",
   "mimetype": "text/x-python",
   "name": "python",
   "nbconvert_exporter": "python",
   "pygments_lexer": "ipython2",
   "version": "2.7.6"
  }
 },
 "nbformat": 4,
 "nbformat_minor": 0
}
