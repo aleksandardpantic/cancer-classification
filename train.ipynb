{
 "cells": [
  {
   "cell_type": "code",
   "execution_count": null,
   "metadata": {
    "collapsed": true
   },
   "outputs": [],
   "source": [
    "y_test_skin_cancer = y_test.loc[:, \"Skin_Cancer\"].values\n",
    "y_test_other_cancer = y_test.loc[:, \"Other_Cancer\"].values\n",
    "y_train_skin_cancer = y_train.loc[:, \"Skin_Cancer\"].values\n",
    "y_train_other_cancer = y_train.loc[:, \"Other_Cancer\"].values"
   ]
  }
 ],
 "metadata": {
  "kernelspec": {
   "display_name": "Python 3",
   "language": "python",
   "name": "python3"
  },
  "language_info": {
   "codemirror_mode": {
    "name": "ipython",
    "version": 2
   },
   "file_extension": ".py",
   "mimetype": "text/x-python",
   "name": "python",
   "nbconvert_exporter": "python",
   "pygments_lexer": "ipython2",
   "version": "2.7.6"
  }
 },
 "nbformat": 4,
 "nbformat_minor": 0
}
