{
 "cells": [
  {
   "cell_type": "code",
   "execution_count": 1,
   "metadata": {
    "collapsed": true,
    "ExecuteTime": {
     "end_time": "2023-07-24T10:20:30.095706500Z",
     "start_time": "2023-07-24T10:20:29.169006700Z"
    }
   },
   "outputs": [],
   "source": [
    "import numpy as np\n",
    "import pandas as pd\n",
    "\n",
    "data = pd.read_csv('CVD_cleaned.csv')"
   ]
  },
  {
   "cell_type": "code",
   "execution_count": 2,
   "outputs": [
    {
     "data": {
      "text/plain": "  General_Health                  Checkup Exercise Heart_Disease Skin_Cancer  \\\n0           Poor  Within the past 2 years       No            No          No   \n1      Very Good     Within the past year       No           Yes          No   \n2      Very Good     Within the past year      Yes            No          No   \n3           Poor     Within the past year      Yes           Yes          No   \n4           Good     Within the past year       No            No          No   \n\n  Other_Cancer Depression Diabetes Arthritis     Sex Age_Category  \\\n0           No         No       No       Yes  Female        70-74   \n1           No         No      Yes        No  Female        70-74   \n2           No         No      Yes        No  Female        60-64   \n3           No         No      Yes        No    Male        75-79   \n4           No         No       No        No    Male          80+   \n\n   Height_(cm)  Weight_(kg)    BMI Smoking_History  Alcohol_Consumption  \\\n0        150.0        32.66  14.54             Yes                  0.0   \n1        165.0        77.11  28.29              No                  0.0   \n2        163.0        88.45  33.47              No                  4.0   \n3        180.0        93.44  28.73              No                  0.0   \n4        191.0        88.45  24.37             Yes                  0.0   \n\n   Fruit_Consumption  Green_Vegetables_Consumption  FriedPotato_Consumption  \n0               30.0                          16.0                     12.0  \n1               30.0                           0.0                      4.0  \n2               12.0                           3.0                     16.0  \n3               30.0                          30.0                      8.0  \n4                8.0                           4.0                      0.0  ",
      "text/html": "<div>\n<style scoped>\n    .dataframe tbody tr th:only-of-type {\n        vertical-align: middle;\n    }\n\n    .dataframe tbody tr th {\n        vertical-align: top;\n    }\n\n    .dataframe thead th {\n        text-align: right;\n    }\n</style>\n<table border=\"1\" class=\"dataframe\">\n  <thead>\n    <tr style=\"text-align: right;\">\n      <th></th>\n      <th>General_Health</th>\n      <th>Checkup</th>\n      <th>Exercise</th>\n      <th>Heart_Disease</th>\n      <th>Skin_Cancer</th>\n      <th>Other_Cancer</th>\n      <th>Depression</th>\n      <th>Diabetes</th>\n      <th>Arthritis</th>\n      <th>Sex</th>\n      <th>Age_Category</th>\n      <th>Height_(cm)</th>\n      <th>Weight_(kg)</th>\n      <th>BMI</th>\n      <th>Smoking_History</th>\n      <th>Alcohol_Consumption</th>\n      <th>Fruit_Consumption</th>\n      <th>Green_Vegetables_Consumption</th>\n      <th>FriedPotato_Consumption</th>\n    </tr>\n  </thead>\n  <tbody>\n    <tr>\n      <th>0</th>\n      <td>Poor</td>\n      <td>Within the past 2 years</td>\n      <td>No</td>\n      <td>No</td>\n      <td>No</td>\n      <td>No</td>\n      <td>No</td>\n      <td>No</td>\n      <td>Yes</td>\n      <td>Female</td>\n      <td>70-74</td>\n      <td>150.0</td>\n      <td>32.66</td>\n      <td>14.54</td>\n      <td>Yes</td>\n      <td>0.0</td>\n      <td>30.0</td>\n      <td>16.0</td>\n      <td>12.0</td>\n    </tr>\n    <tr>\n      <th>1</th>\n      <td>Very Good</td>\n      <td>Within the past year</td>\n      <td>No</td>\n      <td>Yes</td>\n      <td>No</td>\n      <td>No</td>\n      <td>No</td>\n      <td>Yes</td>\n      <td>No</td>\n      <td>Female</td>\n      <td>70-74</td>\n      <td>165.0</td>\n      <td>77.11</td>\n      <td>28.29</td>\n      <td>No</td>\n      <td>0.0</td>\n      <td>30.0</td>\n      <td>0.0</td>\n      <td>4.0</td>\n    </tr>\n    <tr>\n      <th>2</th>\n      <td>Very Good</td>\n      <td>Within the past year</td>\n      <td>Yes</td>\n      <td>No</td>\n      <td>No</td>\n      <td>No</td>\n      <td>No</td>\n      <td>Yes</td>\n      <td>No</td>\n      <td>Female</td>\n      <td>60-64</td>\n      <td>163.0</td>\n      <td>88.45</td>\n      <td>33.47</td>\n      <td>No</td>\n      <td>4.0</td>\n      <td>12.0</td>\n      <td>3.0</td>\n      <td>16.0</td>\n    </tr>\n    <tr>\n      <th>3</th>\n      <td>Poor</td>\n      <td>Within the past year</td>\n      <td>Yes</td>\n      <td>Yes</td>\n      <td>No</td>\n      <td>No</td>\n      <td>No</td>\n      <td>Yes</td>\n      <td>No</td>\n      <td>Male</td>\n      <td>75-79</td>\n      <td>180.0</td>\n      <td>93.44</td>\n      <td>28.73</td>\n      <td>No</td>\n      <td>0.0</td>\n      <td>30.0</td>\n      <td>30.0</td>\n      <td>8.0</td>\n    </tr>\n    <tr>\n      <th>4</th>\n      <td>Good</td>\n      <td>Within the past year</td>\n      <td>No</td>\n      <td>No</td>\n      <td>No</td>\n      <td>No</td>\n      <td>No</td>\n      <td>No</td>\n      <td>No</td>\n      <td>Male</td>\n      <td>80+</td>\n      <td>191.0</td>\n      <td>88.45</td>\n      <td>24.37</td>\n      <td>Yes</td>\n      <td>0.0</td>\n      <td>8.0</td>\n      <td>4.0</td>\n      <td>0.0</td>\n    </tr>\n  </tbody>\n</table>\n</div>"
     },
     "execution_count": 2,
     "metadata": {},
     "output_type": "execute_result"
    }
   ],
   "source": [
    "data.head()"
   ],
   "metadata": {
    "collapsed": false,
    "ExecuteTime": {
     "end_time": "2023-07-24T10:20:30.129376700Z",
     "start_time": "2023-07-24T10:20:30.095706500Z"
    }
   }
  },
  {
   "cell_type": "code",
   "execution_count": 3,
   "outputs": [
    {
     "data": {
      "text/plain": "         Height_(cm)    Weight_(kg)            BMI  Alcohol_Consumption  \\\ncount  308854.000000  308854.000000  308854.000000        308854.000000   \nmean      170.615249      83.588655      28.626211             5.096366   \nstd        10.658026      21.343210       6.522323             8.199763   \nmin        91.000000      24.950000      12.020000             0.000000   \n25%       163.000000      68.040000      24.210000             0.000000   \n50%       170.000000      81.650000      27.440000             1.000000   \n75%       178.000000      95.250000      31.850000             6.000000   \nmax       241.000000     293.020000      99.330000            30.000000   \n\n       Fruit_Consumption  Green_Vegetables_Consumption  \\\ncount      308854.000000                 308854.000000   \nmean           29.835200                     15.110441   \nstd            24.875735                     14.926238   \nmin             0.000000                      0.000000   \n25%            12.000000                      4.000000   \n50%            30.000000                     12.000000   \n75%            30.000000                     20.000000   \nmax           120.000000                    128.000000   \n\n       FriedPotato_Consumption  \ncount            308854.000000  \nmean                  6.296616  \nstd                   8.582954  \nmin                   0.000000  \n25%                   2.000000  \n50%                   4.000000  \n75%                   8.000000  \nmax                 128.000000  ",
      "text/html": "<div>\n<style scoped>\n    .dataframe tbody tr th:only-of-type {\n        vertical-align: middle;\n    }\n\n    .dataframe tbody tr th {\n        vertical-align: top;\n    }\n\n    .dataframe thead th {\n        text-align: right;\n    }\n</style>\n<table border=\"1\" class=\"dataframe\">\n  <thead>\n    <tr style=\"text-align: right;\">\n      <th></th>\n      <th>Height_(cm)</th>\n      <th>Weight_(kg)</th>\n      <th>BMI</th>\n      <th>Alcohol_Consumption</th>\n      <th>Fruit_Consumption</th>\n      <th>Green_Vegetables_Consumption</th>\n      <th>FriedPotato_Consumption</th>\n    </tr>\n  </thead>\n  <tbody>\n    <tr>\n      <th>count</th>\n      <td>308854.000000</td>\n      <td>308854.000000</td>\n      <td>308854.000000</td>\n      <td>308854.000000</td>\n      <td>308854.000000</td>\n      <td>308854.000000</td>\n      <td>308854.000000</td>\n    </tr>\n    <tr>\n      <th>mean</th>\n      <td>170.615249</td>\n      <td>83.588655</td>\n      <td>28.626211</td>\n      <td>5.096366</td>\n      <td>29.835200</td>\n      <td>15.110441</td>\n      <td>6.296616</td>\n    </tr>\n    <tr>\n      <th>std</th>\n      <td>10.658026</td>\n      <td>21.343210</td>\n      <td>6.522323</td>\n      <td>8.199763</td>\n      <td>24.875735</td>\n      <td>14.926238</td>\n      <td>8.582954</td>\n    </tr>\n    <tr>\n      <th>min</th>\n      <td>91.000000</td>\n      <td>24.950000</td>\n      <td>12.020000</td>\n      <td>0.000000</td>\n      <td>0.000000</td>\n      <td>0.000000</td>\n      <td>0.000000</td>\n    </tr>\n    <tr>\n      <th>25%</th>\n      <td>163.000000</td>\n      <td>68.040000</td>\n      <td>24.210000</td>\n      <td>0.000000</td>\n      <td>12.000000</td>\n      <td>4.000000</td>\n      <td>2.000000</td>\n    </tr>\n    <tr>\n      <th>50%</th>\n      <td>170.000000</td>\n      <td>81.650000</td>\n      <td>27.440000</td>\n      <td>1.000000</td>\n      <td>30.000000</td>\n      <td>12.000000</td>\n      <td>4.000000</td>\n    </tr>\n    <tr>\n      <th>75%</th>\n      <td>178.000000</td>\n      <td>95.250000</td>\n      <td>31.850000</td>\n      <td>6.000000</td>\n      <td>30.000000</td>\n      <td>20.000000</td>\n      <td>8.000000</td>\n    </tr>\n    <tr>\n      <th>max</th>\n      <td>241.000000</td>\n      <td>293.020000</td>\n      <td>99.330000</td>\n      <td>30.000000</td>\n      <td>120.000000</td>\n      <td>128.000000</td>\n      <td>128.000000</td>\n    </tr>\n  </tbody>\n</table>\n</div>"
     },
     "execution_count": 3,
     "metadata": {},
     "output_type": "execute_result"
    }
   ],
   "source": [
    "data.describe()"
   ],
   "metadata": {
    "collapsed": false,
    "ExecuteTime": {
     "end_time": "2023-07-24T10:20:30.245242800Z",
     "start_time": "2023-07-24T10:20:30.129376700Z"
    }
   }
  },
  {
   "cell_type": "code",
   "execution_count": 4,
   "outputs": [
    {
     "data": {
      "text/plain": "0"
     },
     "execution_count": 4,
     "metadata": {},
     "output_type": "execute_result"
    }
   ],
   "source": [
    "data.isna().sum().sum()"
   ],
   "metadata": {
    "collapsed": false,
    "ExecuteTime": {
     "end_time": "2023-07-24T10:20:30.345529500Z",
     "start_time": "2023-07-24T10:20:30.245242800Z"
    }
   }
  },
  {
   "cell_type": "code",
   "execution_count": 5,
   "outputs": [
    {
     "name": "stdout",
     "output_type": "stream",
     "text": [
      "['Poor' 'Very Good' 'Good' 'Fair' 'Excellent']\n",
      "['Within the past 2 years' 'Within the past year' '5 or more years ago'\n",
      " 'Within the past 5 years' 'Never']\n",
      "['No' 'Yes']\n",
      "['No' 'Yes']\n",
      "['No' 'Yes']\n",
      "['No' 'Yes' 'No, pre-diabetes or borderline diabetes'\n",
      " 'Yes, but female told only during pregnancy']\n",
      "['Yes' 'No']\n",
      "['Female' 'Male']\n",
      "['70-74' '60-64' '75-79' '80+' '65-69' '50-54' '45-49' '18-24' '30-34'\n",
      " '55-59' '35-39' '40-44' '25-29']\n",
      "['Yes' 'No']\n"
     ]
    }
   ],
   "source": [
    "from sklearn.preprocessing import OrdinalEncoder\n",
    "\n",
    "numeric_columns = ['Height_(cm)', 'Weight_(kg)', 'BMI',  'Alcohol_Consumption', 'Fruit_Consumption', 'Green_Vegetables_Consumption', 'FriedPotato_Consumption']\n",
    "factor_colums = [\"General_Health\",\"Checkup\",\"Exercise\", \"Heart_Disease\",\"Depression\",\"Diabetes\",\"Arthritis\", \"Sex\",\"Age_Category\", \"Smoking_History\"]\n",
    "for col in factor_colums:\n",
    "    print(data[col].unique())"
   ],
   "metadata": {
    "collapsed": false,
    "ExecuteTime": {
     "end_time": "2023-07-24T10:20:31.062442Z",
     "start_time": "2023-07-24T10:20:30.345529500Z"
    }
   }
  },
  {
   "cell_type": "code",
   "execution_count": 6,
   "outputs": [],
   "source": [
    "general_health_encoder = OrdinalEncoder(categories=[['Poor','Fair','Good', 'Very Good','Excellent']], dtype=np.int8)\n",
    "\n",
    "data[\"General_Health\"] = general_health_encoder.fit_transform(data[\"General_Health\"].values.reshape(-1,1))"
   ],
   "metadata": {
    "collapsed": false,
    "ExecuteTime": {
     "end_time": "2023-07-24T10:20:31.131435Z",
     "start_time": "2023-07-24T10:20:31.062442Z"
    }
   }
  },
  {
   "cell_type": "code",
   "execution_count": 7,
   "outputs": [
    {
     "data": {
      "text/plain": "   General_Health                  Checkup Exercise Heart_Disease Skin_Cancer  \\\n0               0  Within the past 2 years       No            No          No   \n1               3     Within the past year       No           Yes          No   \n2               3     Within the past year      Yes            No          No   \n3               0     Within the past year      Yes           Yes          No   \n4               2     Within the past year       No            No          No   \n\n  Other_Cancer Depression Diabetes Arthritis     Sex Age_Category  \\\n0           No         No       No       Yes  Female        70-74   \n1           No         No      Yes        No  Female        70-74   \n2           No         No      Yes        No  Female        60-64   \n3           No         No      Yes        No    Male        75-79   \n4           No         No       No        No    Male          80+   \n\n   Height_(cm)  Weight_(kg)    BMI Smoking_History  Alcohol_Consumption  \\\n0        150.0        32.66  14.54             Yes                  0.0   \n1        165.0        77.11  28.29              No                  0.0   \n2        163.0        88.45  33.47              No                  4.0   \n3        180.0        93.44  28.73              No                  0.0   \n4        191.0        88.45  24.37             Yes                  0.0   \n\n   Fruit_Consumption  Green_Vegetables_Consumption  FriedPotato_Consumption  \n0               30.0                          16.0                     12.0  \n1               30.0                           0.0                      4.0  \n2               12.0                           3.0                     16.0  \n3               30.0                          30.0                      8.0  \n4                8.0                           4.0                      0.0  ",
      "text/html": "<div>\n<style scoped>\n    .dataframe tbody tr th:only-of-type {\n        vertical-align: middle;\n    }\n\n    .dataframe tbody tr th {\n        vertical-align: top;\n    }\n\n    .dataframe thead th {\n        text-align: right;\n    }\n</style>\n<table border=\"1\" class=\"dataframe\">\n  <thead>\n    <tr style=\"text-align: right;\">\n      <th></th>\n      <th>General_Health</th>\n      <th>Checkup</th>\n      <th>Exercise</th>\n      <th>Heart_Disease</th>\n      <th>Skin_Cancer</th>\n      <th>Other_Cancer</th>\n      <th>Depression</th>\n      <th>Diabetes</th>\n      <th>Arthritis</th>\n      <th>Sex</th>\n      <th>Age_Category</th>\n      <th>Height_(cm)</th>\n      <th>Weight_(kg)</th>\n      <th>BMI</th>\n      <th>Smoking_History</th>\n      <th>Alcohol_Consumption</th>\n      <th>Fruit_Consumption</th>\n      <th>Green_Vegetables_Consumption</th>\n      <th>FriedPotato_Consumption</th>\n    </tr>\n  </thead>\n  <tbody>\n    <tr>\n      <th>0</th>\n      <td>0</td>\n      <td>Within the past 2 years</td>\n      <td>No</td>\n      <td>No</td>\n      <td>No</td>\n      <td>No</td>\n      <td>No</td>\n      <td>No</td>\n      <td>Yes</td>\n      <td>Female</td>\n      <td>70-74</td>\n      <td>150.0</td>\n      <td>32.66</td>\n      <td>14.54</td>\n      <td>Yes</td>\n      <td>0.0</td>\n      <td>30.0</td>\n      <td>16.0</td>\n      <td>12.0</td>\n    </tr>\n    <tr>\n      <th>1</th>\n      <td>3</td>\n      <td>Within the past year</td>\n      <td>No</td>\n      <td>Yes</td>\n      <td>No</td>\n      <td>No</td>\n      <td>No</td>\n      <td>Yes</td>\n      <td>No</td>\n      <td>Female</td>\n      <td>70-74</td>\n      <td>165.0</td>\n      <td>77.11</td>\n      <td>28.29</td>\n      <td>No</td>\n      <td>0.0</td>\n      <td>30.0</td>\n      <td>0.0</td>\n      <td>4.0</td>\n    </tr>\n    <tr>\n      <th>2</th>\n      <td>3</td>\n      <td>Within the past year</td>\n      <td>Yes</td>\n      <td>No</td>\n      <td>No</td>\n      <td>No</td>\n      <td>No</td>\n      <td>Yes</td>\n      <td>No</td>\n      <td>Female</td>\n      <td>60-64</td>\n      <td>163.0</td>\n      <td>88.45</td>\n      <td>33.47</td>\n      <td>No</td>\n      <td>4.0</td>\n      <td>12.0</td>\n      <td>3.0</td>\n      <td>16.0</td>\n    </tr>\n    <tr>\n      <th>3</th>\n      <td>0</td>\n      <td>Within the past year</td>\n      <td>Yes</td>\n      <td>Yes</td>\n      <td>No</td>\n      <td>No</td>\n      <td>No</td>\n      <td>Yes</td>\n      <td>No</td>\n      <td>Male</td>\n      <td>75-79</td>\n      <td>180.0</td>\n      <td>93.44</td>\n      <td>28.73</td>\n      <td>No</td>\n      <td>0.0</td>\n      <td>30.0</td>\n      <td>30.0</td>\n      <td>8.0</td>\n    </tr>\n    <tr>\n      <th>4</th>\n      <td>2</td>\n      <td>Within the past year</td>\n      <td>No</td>\n      <td>No</td>\n      <td>No</td>\n      <td>No</td>\n      <td>No</td>\n      <td>No</td>\n      <td>No</td>\n      <td>Male</td>\n      <td>80+</td>\n      <td>191.0</td>\n      <td>88.45</td>\n      <td>24.37</td>\n      <td>Yes</td>\n      <td>0.0</td>\n      <td>8.0</td>\n      <td>4.0</td>\n      <td>0.0</td>\n    </tr>\n  </tbody>\n</table>\n</div>"
     },
     "execution_count": 7,
     "metadata": {},
     "output_type": "execute_result"
    }
   ],
   "source": [
    "data.head()"
   ],
   "metadata": {
    "collapsed": false,
    "ExecuteTime": {
     "end_time": "2023-07-24T10:20:31.162677900Z",
     "start_time": "2023-07-24T10:20:31.131435Z"
    }
   }
  },
  {
   "cell_type": "code",
   "execution_count": 8,
   "outputs": [
    {
     "data": {
      "text/plain": "   General_Health  Checkup Exercise Heart_Disease Skin_Cancer Other_Cancer  \\\n0               0        3       No            No          No           No   \n1               3        4       No           Yes          No           No   \n2               3        4      Yes            No          No           No   \n3               0        4      Yes           Yes          No           No   \n4               2        4       No            No          No           No   \n\n  Depression Diabetes Arthritis     Sex Age_Category  Height_(cm)  \\\n0         No       No       Yes  Female        70-74        150.0   \n1         No      Yes        No  Female        70-74        165.0   \n2         No      Yes        No  Female        60-64        163.0   \n3         No      Yes        No    Male        75-79        180.0   \n4         No       No        No    Male          80+        191.0   \n\n   Weight_(kg)    BMI Smoking_History  Alcohol_Consumption  Fruit_Consumption  \\\n0        32.66  14.54             Yes                  0.0               30.0   \n1        77.11  28.29              No                  0.0               30.0   \n2        88.45  33.47              No                  4.0               12.0   \n3        93.44  28.73              No                  0.0               30.0   \n4        88.45  24.37             Yes                  0.0                8.0   \n\n   Green_Vegetables_Consumption  FriedPotato_Consumption  \n0                          16.0                     12.0  \n1                           0.0                      4.0  \n2                           3.0                     16.0  \n3                          30.0                      8.0  \n4                           4.0                      0.0  ",
      "text/html": "<div>\n<style scoped>\n    .dataframe tbody tr th:only-of-type {\n        vertical-align: middle;\n    }\n\n    .dataframe tbody tr th {\n        vertical-align: top;\n    }\n\n    .dataframe thead th {\n        text-align: right;\n    }\n</style>\n<table border=\"1\" class=\"dataframe\">\n  <thead>\n    <tr style=\"text-align: right;\">\n      <th></th>\n      <th>General_Health</th>\n      <th>Checkup</th>\n      <th>Exercise</th>\n      <th>Heart_Disease</th>\n      <th>Skin_Cancer</th>\n      <th>Other_Cancer</th>\n      <th>Depression</th>\n      <th>Diabetes</th>\n      <th>Arthritis</th>\n      <th>Sex</th>\n      <th>Age_Category</th>\n      <th>Height_(cm)</th>\n      <th>Weight_(kg)</th>\n      <th>BMI</th>\n      <th>Smoking_History</th>\n      <th>Alcohol_Consumption</th>\n      <th>Fruit_Consumption</th>\n      <th>Green_Vegetables_Consumption</th>\n      <th>FriedPotato_Consumption</th>\n    </tr>\n  </thead>\n  <tbody>\n    <tr>\n      <th>0</th>\n      <td>0</td>\n      <td>3</td>\n      <td>No</td>\n      <td>No</td>\n      <td>No</td>\n      <td>No</td>\n      <td>No</td>\n      <td>No</td>\n      <td>Yes</td>\n      <td>Female</td>\n      <td>70-74</td>\n      <td>150.0</td>\n      <td>32.66</td>\n      <td>14.54</td>\n      <td>Yes</td>\n      <td>0.0</td>\n      <td>30.0</td>\n      <td>16.0</td>\n      <td>12.0</td>\n    </tr>\n    <tr>\n      <th>1</th>\n      <td>3</td>\n      <td>4</td>\n      <td>No</td>\n      <td>Yes</td>\n      <td>No</td>\n      <td>No</td>\n      <td>No</td>\n      <td>Yes</td>\n      <td>No</td>\n      <td>Female</td>\n      <td>70-74</td>\n      <td>165.0</td>\n      <td>77.11</td>\n      <td>28.29</td>\n      <td>No</td>\n      <td>0.0</td>\n      <td>30.0</td>\n      <td>0.0</td>\n      <td>4.0</td>\n    </tr>\n    <tr>\n      <th>2</th>\n      <td>3</td>\n      <td>4</td>\n      <td>Yes</td>\n      <td>No</td>\n      <td>No</td>\n      <td>No</td>\n      <td>No</td>\n      <td>Yes</td>\n      <td>No</td>\n      <td>Female</td>\n      <td>60-64</td>\n      <td>163.0</td>\n      <td>88.45</td>\n      <td>33.47</td>\n      <td>No</td>\n      <td>4.0</td>\n      <td>12.0</td>\n      <td>3.0</td>\n      <td>16.0</td>\n    </tr>\n    <tr>\n      <th>3</th>\n      <td>0</td>\n      <td>4</td>\n      <td>Yes</td>\n      <td>Yes</td>\n      <td>No</td>\n      <td>No</td>\n      <td>No</td>\n      <td>Yes</td>\n      <td>No</td>\n      <td>Male</td>\n      <td>75-79</td>\n      <td>180.0</td>\n      <td>93.44</td>\n      <td>28.73</td>\n      <td>No</td>\n      <td>0.0</td>\n      <td>30.0</td>\n      <td>30.0</td>\n      <td>8.0</td>\n    </tr>\n    <tr>\n      <th>4</th>\n      <td>2</td>\n      <td>4</td>\n      <td>No</td>\n      <td>No</td>\n      <td>No</td>\n      <td>No</td>\n      <td>No</td>\n      <td>No</td>\n      <td>No</td>\n      <td>Male</td>\n      <td>80+</td>\n      <td>191.0</td>\n      <td>88.45</td>\n      <td>24.37</td>\n      <td>Yes</td>\n      <td>0.0</td>\n      <td>8.0</td>\n      <td>4.0</td>\n      <td>0.0</td>\n    </tr>\n  </tbody>\n</table>\n</div>"
     },
     "execution_count": 8,
     "metadata": {},
     "output_type": "execute_result"
    }
   ],
   "source": [
    "checkup_encoder = OrdinalEncoder(categories=[['Never','5 or more years ago','Within the past 5 years','Within the past 2 years', 'Within the past year'   ]], dtype=np.int8)\n",
    "\n",
    "data[\"Checkup\"] = checkup_encoder.fit_transform(data[\"Checkup\"].values.reshape(-1,1))\n",
    "data.head()"
   ],
   "metadata": {
    "collapsed": false,
    "ExecuteTime": {
     "end_time": "2023-07-24T10:20:31.294158300Z",
     "start_time": "2023-07-24T10:20:31.162677900Z"
    }
   }
  },
  {
   "cell_type": "code",
   "execution_count": 9,
   "outputs": [
    {
     "data": {
      "text/plain": "   General_Health  Checkup  Exercise  Heart_Disease Skin_Cancer Other_Cancer  \\\n0               0        3         0              0          No           No   \n1               3        4         0              1          No           No   \n2               3        4         1              0          No           No   \n3               0        4         1              1          No           No   \n4               2        4         0              0          No           No   \n\n   Depression Diabetes  Arthritis     Sex Age_Category  Height_(cm)  \\\n0           0       No          1  Female        70-74        150.0   \n1           0      Yes          0  Female        70-74        165.0   \n2           0      Yes          0  Female        60-64        163.0   \n3           0      Yes          0    Male        75-79        180.0   \n4           0       No          0    Male          80+        191.0   \n\n   Weight_(kg)    BMI  Smoking_History  Alcohol_Consumption  \\\n0        32.66  14.54                1                  0.0   \n1        77.11  28.29                0                  0.0   \n2        88.45  33.47                0                  4.0   \n3        93.44  28.73                0                  0.0   \n4        88.45  24.37                1                  0.0   \n\n   Fruit_Consumption  Green_Vegetables_Consumption  FriedPotato_Consumption  \n0               30.0                          16.0                     12.0  \n1               30.0                           0.0                      4.0  \n2               12.0                           3.0                     16.0  \n3               30.0                          30.0                      8.0  \n4                8.0                           4.0                      0.0  ",
      "text/html": "<div>\n<style scoped>\n    .dataframe tbody tr th:only-of-type {\n        vertical-align: middle;\n    }\n\n    .dataframe tbody tr th {\n        vertical-align: top;\n    }\n\n    .dataframe thead th {\n        text-align: right;\n    }\n</style>\n<table border=\"1\" class=\"dataframe\">\n  <thead>\n    <tr style=\"text-align: right;\">\n      <th></th>\n      <th>General_Health</th>\n      <th>Checkup</th>\n      <th>Exercise</th>\n      <th>Heart_Disease</th>\n      <th>Skin_Cancer</th>\n      <th>Other_Cancer</th>\n      <th>Depression</th>\n      <th>Diabetes</th>\n      <th>Arthritis</th>\n      <th>Sex</th>\n      <th>Age_Category</th>\n      <th>Height_(cm)</th>\n      <th>Weight_(kg)</th>\n      <th>BMI</th>\n      <th>Smoking_History</th>\n      <th>Alcohol_Consumption</th>\n      <th>Fruit_Consumption</th>\n      <th>Green_Vegetables_Consumption</th>\n      <th>FriedPotato_Consumption</th>\n    </tr>\n  </thead>\n  <tbody>\n    <tr>\n      <th>0</th>\n      <td>0</td>\n      <td>3</td>\n      <td>0</td>\n      <td>0</td>\n      <td>No</td>\n      <td>No</td>\n      <td>0</td>\n      <td>No</td>\n      <td>1</td>\n      <td>Female</td>\n      <td>70-74</td>\n      <td>150.0</td>\n      <td>32.66</td>\n      <td>14.54</td>\n      <td>1</td>\n      <td>0.0</td>\n      <td>30.0</td>\n      <td>16.0</td>\n      <td>12.0</td>\n    </tr>\n    <tr>\n      <th>1</th>\n      <td>3</td>\n      <td>4</td>\n      <td>0</td>\n      <td>1</td>\n      <td>No</td>\n      <td>No</td>\n      <td>0</td>\n      <td>Yes</td>\n      <td>0</td>\n      <td>Female</td>\n      <td>70-74</td>\n      <td>165.0</td>\n      <td>77.11</td>\n      <td>28.29</td>\n      <td>0</td>\n      <td>0.0</td>\n      <td>30.0</td>\n      <td>0.0</td>\n      <td>4.0</td>\n    </tr>\n    <tr>\n      <th>2</th>\n      <td>3</td>\n      <td>4</td>\n      <td>1</td>\n      <td>0</td>\n      <td>No</td>\n      <td>No</td>\n      <td>0</td>\n      <td>Yes</td>\n      <td>0</td>\n      <td>Female</td>\n      <td>60-64</td>\n      <td>163.0</td>\n      <td>88.45</td>\n      <td>33.47</td>\n      <td>0</td>\n      <td>4.0</td>\n      <td>12.0</td>\n      <td>3.0</td>\n      <td>16.0</td>\n    </tr>\n    <tr>\n      <th>3</th>\n      <td>0</td>\n      <td>4</td>\n      <td>1</td>\n      <td>1</td>\n      <td>No</td>\n      <td>No</td>\n      <td>0</td>\n      <td>Yes</td>\n      <td>0</td>\n      <td>Male</td>\n      <td>75-79</td>\n      <td>180.0</td>\n      <td>93.44</td>\n      <td>28.73</td>\n      <td>0</td>\n      <td>0.0</td>\n      <td>30.0</td>\n      <td>30.0</td>\n      <td>8.0</td>\n    </tr>\n    <tr>\n      <th>4</th>\n      <td>2</td>\n      <td>4</td>\n      <td>0</td>\n      <td>0</td>\n      <td>No</td>\n      <td>No</td>\n      <td>0</td>\n      <td>No</td>\n      <td>0</td>\n      <td>Male</td>\n      <td>80+</td>\n      <td>191.0</td>\n      <td>88.45</td>\n      <td>24.37</td>\n      <td>1</td>\n      <td>0.0</td>\n      <td>8.0</td>\n      <td>4.0</td>\n      <td>0.0</td>\n    </tr>\n  </tbody>\n</table>\n</div>"
     },
     "execution_count": 9,
     "metadata": {},
     "output_type": "execute_result"
    }
   ],
   "source": [
    "no_yes_encoder = OrdinalEncoder(categories=[['No','Yes' ]], dtype=np.int8)\n",
    "\n",
    "data[\"Exercise\"] = no_yes_encoder.fit_transform(data[\"Exercise\"].values.reshape(-1,1))\n",
    "data[\"Heart_Disease\"] = no_yes_encoder.transform(data[\"Heart_Disease\"].values.reshape(-1,1))\n",
    "data[\"Depression\"] = no_yes_encoder.transform(data[\"Depression\"].values.reshape(-1,1))\n",
    "data[\"Arthritis\"] = no_yes_encoder.transform(data[\"Arthritis\"].values.reshape(-1,1))\n",
    "data[\"Smoking_History\"] = no_yes_encoder.transform(data[\"Smoking_History\"].values.reshape(-1,1))\n",
    "data.head()"
   ],
   "metadata": {
    "collapsed": false,
    "ExecuteTime": {
     "end_time": "2023-07-24T10:20:31.532380600Z",
     "start_time": "2023-07-24T10:20:31.262915500Z"
    }
   }
  },
  {
   "cell_type": "code",
   "execution_count": 10,
   "outputs": [
    {
     "data": {
      "text/plain": "   General_Health  Checkup  Exercise  Heart_Disease Skin_Cancer Other_Cancer  \\\n0               0        3         0              0          No           No   \n1               3        4         0              1          No           No   \n2               3        4         1              0          No           No   \n3               0        4         1              1          No           No   \n4               2        4         0              0          No           No   \n\n   Depression Diabetes  Arthritis     Sex  Age_Category  Height_(cm)  \\\n0           0       No          1  Female            10        150.0   \n1           0      Yes          0  Female            10        165.0   \n2           0      Yes          0  Female             8        163.0   \n3           0      Yes          0    Male            11        180.0   \n4           0       No          0    Male            12        191.0   \n\n   Weight_(kg)    BMI  Smoking_History  Alcohol_Consumption  \\\n0        32.66  14.54                1                  0.0   \n1        77.11  28.29                0                  0.0   \n2        88.45  33.47                0                  4.0   \n3        93.44  28.73                0                  0.0   \n4        88.45  24.37                1                  0.0   \n\n   Fruit_Consumption  Green_Vegetables_Consumption  FriedPotato_Consumption  \n0               30.0                          16.0                     12.0  \n1               30.0                           0.0                      4.0  \n2               12.0                           3.0                     16.0  \n3               30.0                          30.0                      8.0  \n4                8.0                           4.0                      0.0  ",
      "text/html": "<div>\n<style scoped>\n    .dataframe tbody tr th:only-of-type {\n        vertical-align: middle;\n    }\n\n    .dataframe tbody tr th {\n        vertical-align: top;\n    }\n\n    .dataframe thead th {\n        text-align: right;\n    }\n</style>\n<table border=\"1\" class=\"dataframe\">\n  <thead>\n    <tr style=\"text-align: right;\">\n      <th></th>\n      <th>General_Health</th>\n      <th>Checkup</th>\n      <th>Exercise</th>\n      <th>Heart_Disease</th>\n      <th>Skin_Cancer</th>\n      <th>Other_Cancer</th>\n      <th>Depression</th>\n      <th>Diabetes</th>\n      <th>Arthritis</th>\n      <th>Sex</th>\n      <th>Age_Category</th>\n      <th>Height_(cm)</th>\n      <th>Weight_(kg)</th>\n      <th>BMI</th>\n      <th>Smoking_History</th>\n      <th>Alcohol_Consumption</th>\n      <th>Fruit_Consumption</th>\n      <th>Green_Vegetables_Consumption</th>\n      <th>FriedPotato_Consumption</th>\n    </tr>\n  </thead>\n  <tbody>\n    <tr>\n      <th>0</th>\n      <td>0</td>\n      <td>3</td>\n      <td>0</td>\n      <td>0</td>\n      <td>No</td>\n      <td>No</td>\n      <td>0</td>\n      <td>No</td>\n      <td>1</td>\n      <td>Female</td>\n      <td>10</td>\n      <td>150.0</td>\n      <td>32.66</td>\n      <td>14.54</td>\n      <td>1</td>\n      <td>0.0</td>\n      <td>30.0</td>\n      <td>16.0</td>\n      <td>12.0</td>\n    </tr>\n    <tr>\n      <th>1</th>\n      <td>3</td>\n      <td>4</td>\n      <td>0</td>\n      <td>1</td>\n      <td>No</td>\n      <td>No</td>\n      <td>0</td>\n      <td>Yes</td>\n      <td>0</td>\n      <td>Female</td>\n      <td>10</td>\n      <td>165.0</td>\n      <td>77.11</td>\n      <td>28.29</td>\n      <td>0</td>\n      <td>0.0</td>\n      <td>30.0</td>\n      <td>0.0</td>\n      <td>4.0</td>\n    </tr>\n    <tr>\n      <th>2</th>\n      <td>3</td>\n      <td>4</td>\n      <td>1</td>\n      <td>0</td>\n      <td>No</td>\n      <td>No</td>\n      <td>0</td>\n      <td>Yes</td>\n      <td>0</td>\n      <td>Female</td>\n      <td>8</td>\n      <td>163.0</td>\n      <td>88.45</td>\n      <td>33.47</td>\n      <td>0</td>\n      <td>4.0</td>\n      <td>12.0</td>\n      <td>3.0</td>\n      <td>16.0</td>\n    </tr>\n    <tr>\n      <th>3</th>\n      <td>0</td>\n      <td>4</td>\n      <td>1</td>\n      <td>1</td>\n      <td>No</td>\n      <td>No</td>\n      <td>0</td>\n      <td>Yes</td>\n      <td>0</td>\n      <td>Male</td>\n      <td>11</td>\n      <td>180.0</td>\n      <td>93.44</td>\n      <td>28.73</td>\n      <td>0</td>\n      <td>0.0</td>\n      <td>30.0</td>\n      <td>30.0</td>\n      <td>8.0</td>\n    </tr>\n    <tr>\n      <th>4</th>\n      <td>2</td>\n      <td>4</td>\n      <td>0</td>\n      <td>0</td>\n      <td>No</td>\n      <td>No</td>\n      <td>0</td>\n      <td>No</td>\n      <td>0</td>\n      <td>Male</td>\n      <td>12</td>\n      <td>191.0</td>\n      <td>88.45</td>\n      <td>24.37</td>\n      <td>1</td>\n      <td>0.0</td>\n      <td>8.0</td>\n      <td>4.0</td>\n      <td>0.0</td>\n    </tr>\n  </tbody>\n</table>\n</div>"
     },
     "execution_count": 10,
     "metadata": {},
     "output_type": "execute_result"
    }
   ],
   "source": [
    "age_encoder = OrdinalEncoder(categories=[['18-24','25-29','30-34','35-39', '40-44','45-49','50-54' , '55-59','60-64', '65-69' ,'70-74',  '75-79', '80+' ]], dtype=np.int8)\n",
    "\n",
    "data[\"Age_Category\"] = age_encoder.fit_transform(data[\"Age_Category\"].values.reshape(-1,1))\n",
    "data.head()"
   ],
   "metadata": {
    "collapsed": false,
    "ExecuteTime": {
     "end_time": "2023-07-24T10:20:31.632675900Z",
     "start_time": "2023-07-24T10:20:31.532380600Z"
    }
   }
  },
  {
   "cell_type": "code",
   "execution_count": 11,
   "outputs": [],
   "source": [
    "sex_encoder = OrdinalEncoder(categories=[['Female', 'Male']], dtype=np.int8)\n",
    "\n",
    "data[\"Sex\"] = sex_encoder.fit_transform(data[\"Sex\"].values.reshape(-1,1))"
   ],
   "metadata": {
    "collapsed": false,
    "ExecuteTime": {
     "end_time": "2023-07-24T10:20:31.695189200Z",
     "start_time": "2023-07-24T10:20:31.632675900Z"
    }
   }
  },
  {
   "cell_type": "code",
   "execution_count": 12,
   "outputs": [],
   "source": [
    "data = data.loc[data['Diabetes'] != 'Yes, but female told only during pregnancy']\n",
    "\n",
    "\n",
    "diabetes_encoder = OrdinalEncoder(categories=[['No',  'No, pre-diabetes or borderline diabetes', 'Yes']], dtype=np.int8)\n",
    "data['Diabetes'] = diabetes_encoder.fit_transform(data['Diabetes'].values.reshape(-1,1))\n",
    "\n"
   ],
   "metadata": {
    "collapsed": false,
    "ExecuteTime": {
     "end_time": "2023-07-24T10:20:31.802713300Z",
     "start_time": "2023-07-24T10:20:31.679540800Z"
    }
   }
  },
  {
   "cell_type": "code",
   "execution_count": 13,
   "outputs": [
    {
     "name": "stderr",
     "output_type": "stream",
     "text": [
      "C:\\Users\\alpan\\anaconda3\\envs\\cancer\\lib\\site-packages\\sklearn\\preprocessing\\_label.py:114: DataConversionWarning: A column-vector y was passed when a 1d array was expected. Please change the shape of y to (n_samples, ), for example using ravel().\n",
      "  y = column_or_1d(y, warn=True)\n",
      "C:\\Users\\alpan\\anaconda3\\envs\\cancer\\lib\\site-packages\\sklearn\\preprocessing\\_label.py:132: DataConversionWarning: A column-vector y was passed when a 1d array was expected. Please change the shape of y to (n_samples, ), for example using ravel().\n",
      "  y = column_or_1d(y, dtype=self.classes_.dtype, warn=True)\n"
     ]
    },
    {
     "data": {
      "text/plain": "   General_Health  Checkup  Exercise  Heart_Disease  Skin_Cancer  \\\n0               0        3         0              0            0   \n1               3        4         0              1            0   \n2               3        4         1              0            0   \n3               0        4         1              1            0   \n4               2        4         0              0            0   \n\n   Other_Cancer  Depression  Diabetes  Arthritis  Sex  Age_Category  \\\n0             0           0         0          1    0            10   \n1             0           0         2          0    0            10   \n2             0           0         2          0    0             8   \n3             0           0         2          0    1            11   \n4             0           0         0          0    1            12   \n\n   Height_(cm)  Weight_(kg)    BMI  Smoking_History  Alcohol_Consumption  \\\n0        150.0        32.66  14.54                1                  0.0   \n1        165.0        77.11  28.29                0                  0.0   \n2        163.0        88.45  33.47                0                  4.0   \n3        180.0        93.44  28.73                0                  0.0   \n4        191.0        88.45  24.37                1                  0.0   \n\n   Fruit_Consumption  Green_Vegetables_Consumption  FriedPotato_Consumption  \n0               30.0                          16.0                     12.0  \n1               30.0                           0.0                      4.0  \n2               12.0                           3.0                     16.0  \n3               30.0                          30.0                      8.0  \n4                8.0                           4.0                      0.0  ",
      "text/html": "<div>\n<style scoped>\n    .dataframe tbody tr th:only-of-type {\n        vertical-align: middle;\n    }\n\n    .dataframe tbody tr th {\n        vertical-align: top;\n    }\n\n    .dataframe thead th {\n        text-align: right;\n    }\n</style>\n<table border=\"1\" class=\"dataframe\">\n  <thead>\n    <tr style=\"text-align: right;\">\n      <th></th>\n      <th>General_Health</th>\n      <th>Checkup</th>\n      <th>Exercise</th>\n      <th>Heart_Disease</th>\n      <th>Skin_Cancer</th>\n      <th>Other_Cancer</th>\n      <th>Depression</th>\n      <th>Diabetes</th>\n      <th>Arthritis</th>\n      <th>Sex</th>\n      <th>Age_Category</th>\n      <th>Height_(cm)</th>\n      <th>Weight_(kg)</th>\n      <th>BMI</th>\n      <th>Smoking_History</th>\n      <th>Alcohol_Consumption</th>\n      <th>Fruit_Consumption</th>\n      <th>Green_Vegetables_Consumption</th>\n      <th>FriedPotato_Consumption</th>\n    </tr>\n  </thead>\n  <tbody>\n    <tr>\n      <th>0</th>\n      <td>0</td>\n      <td>3</td>\n      <td>0</td>\n      <td>0</td>\n      <td>0</td>\n      <td>0</td>\n      <td>0</td>\n      <td>0</td>\n      <td>1</td>\n      <td>0</td>\n      <td>10</td>\n      <td>150.0</td>\n      <td>32.66</td>\n      <td>14.54</td>\n      <td>1</td>\n      <td>0.0</td>\n      <td>30.0</td>\n      <td>16.0</td>\n      <td>12.0</td>\n    </tr>\n    <tr>\n      <th>1</th>\n      <td>3</td>\n      <td>4</td>\n      <td>0</td>\n      <td>1</td>\n      <td>0</td>\n      <td>0</td>\n      <td>0</td>\n      <td>2</td>\n      <td>0</td>\n      <td>0</td>\n      <td>10</td>\n      <td>165.0</td>\n      <td>77.11</td>\n      <td>28.29</td>\n      <td>0</td>\n      <td>0.0</td>\n      <td>30.0</td>\n      <td>0.0</td>\n      <td>4.0</td>\n    </tr>\n    <tr>\n      <th>2</th>\n      <td>3</td>\n      <td>4</td>\n      <td>1</td>\n      <td>0</td>\n      <td>0</td>\n      <td>0</td>\n      <td>0</td>\n      <td>2</td>\n      <td>0</td>\n      <td>0</td>\n      <td>8</td>\n      <td>163.0</td>\n      <td>88.45</td>\n      <td>33.47</td>\n      <td>0</td>\n      <td>4.0</td>\n      <td>12.0</td>\n      <td>3.0</td>\n      <td>16.0</td>\n    </tr>\n    <tr>\n      <th>3</th>\n      <td>0</td>\n      <td>4</td>\n      <td>1</td>\n      <td>1</td>\n      <td>0</td>\n      <td>0</td>\n      <td>0</td>\n      <td>2</td>\n      <td>0</td>\n      <td>1</td>\n      <td>11</td>\n      <td>180.0</td>\n      <td>93.44</td>\n      <td>28.73</td>\n      <td>0</td>\n      <td>0.0</td>\n      <td>30.0</td>\n      <td>30.0</td>\n      <td>8.0</td>\n    </tr>\n    <tr>\n      <th>4</th>\n      <td>2</td>\n      <td>4</td>\n      <td>0</td>\n      <td>0</td>\n      <td>0</td>\n      <td>0</td>\n      <td>0</td>\n      <td>0</td>\n      <td>0</td>\n      <td>1</td>\n      <td>12</td>\n      <td>191.0</td>\n      <td>88.45</td>\n      <td>24.37</td>\n      <td>1</td>\n      <td>0.0</td>\n      <td>8.0</td>\n      <td>4.0</td>\n      <td>0.0</td>\n    </tr>\n  </tbody>\n</table>\n</div>"
     },
     "execution_count": 13,
     "metadata": {},
     "output_type": "execute_result"
    }
   ],
   "source": [
    "from sklearn.preprocessing import LabelEncoder\n",
    "\n",
    "label_encoder = LabelEncoder()\n",
    "data['Skin_Cancer'] = label_encoder.fit_transform(data['Skin_Cancer'].values.reshape(-1,1))\n",
    "data['Other_Cancer'] = label_encoder.transform(data['Other_Cancer'].values.reshape(-1,1))\n",
    "data.head()"
   ],
   "metadata": {
    "collapsed": false,
    "ExecuteTime": {
     "end_time": "2023-07-24T10:20:31.917357800Z",
     "start_time": "2023-07-24T10:20:31.802713300Z"
    }
   }
  },
  {
   "cell_type": "code",
   "execution_count": 14,
   "outputs": [
    {
     "data": {
      "text/plain": "Index(['General_Health', 'Checkup', 'Exercise', 'Heart_Disease', 'Skin_Cancer',\n       'Other_Cancer', 'Depression', 'Diabetes', 'Arthritis', 'Sex',\n       'Age_Category', 'Height_(cm)', 'Weight_(kg)', 'BMI', 'Smoking_History',\n       'Alcohol_Consumption', 'Fruit_Consumption',\n       'Green_Vegetables_Consumption', 'FriedPotato_Consumption'],\n      dtype='object')"
     },
     "execution_count": 14,
     "metadata": {},
     "output_type": "execute_result"
    }
   ],
   "source": [
    "data.columns"
   ],
   "metadata": {
    "collapsed": false,
    "ExecuteTime": {
     "end_time": "2023-07-24T10:20:31.932981600Z",
     "start_time": "2023-07-24T10:20:31.917357800Z"
    }
   }
  },
  {
   "cell_type": "code",
   "execution_count": 15,
   "outputs": [],
   "source": [
    "from sklearn.model_selection import train_test_split\n",
    "\n",
    "features = ['General_Health', 'Checkup', 'Exercise', 'Heart_Disease',\n",
    "            'Depression', 'Diabetes', 'Arthritis', 'Sex',\n",
    "             'Age_Category', 'Height_(cm)', 'Weight_(kg)', 'BMI', 'Smoking_History',\n",
    "             'Alcohol_Consumption', 'Fruit_Consumption',\n",
    "             'Green_Vegetables_Consumption', 'FriedPotato_Consumption']\n",
    "labels = [ 'Skin_Cancer',\n",
    "           'Other_Cancer']\n",
    "\n",
    "X_train, X_test,y_train,y_test = train_test_split(data[features], data[labels],test_size=0.2, random_state= 100)"
   ],
   "metadata": {
    "collapsed": false,
    "ExecuteTime": {
     "end_time": "2023-07-24T10:20:32.064466300Z",
     "start_time": "2023-07-24T10:20:31.932981600Z"
    }
   }
  },
  {
   "cell_type": "code",
   "execution_count": 16,
   "outputs": [],
   "source": [
    "from sklearn.preprocessing import  MinMaxScaler\n",
    "\n",
    "scaler = MinMaxScaler()\n",
    "\n",
    "X_train = scaler.fit_transform(X_train)\n",
    "X_test = scaler.transform(X_test)\n"
   ],
   "metadata": {
    "collapsed": false,
    "ExecuteTime": {
     "end_time": "2023-07-24T10:20:32.149141100Z",
     "start_time": "2023-07-24T10:20:32.064466300Z"
    }
   }
  },
  {
   "cell_type": "code",
   "execution_count": 17,
   "outputs": [],
   "source": [
    "pd.DataFrame(X_train, columns=features).to_csv(\"data/X_train.csv\", index=False)\n",
    "pd.DataFrame(X_test, columns=features).to_csv(\"data/X_test.csv\", index=False)"
   ],
   "metadata": {
    "collapsed": false,
    "ExecuteTime": {
     "end_time": "2023-07-24T10:20:35.609784200Z",
     "start_time": "2023-07-24T10:20:32.149141100Z"
    }
   }
  },
  {
   "cell_type": "code",
   "execution_count": 18,
   "outputs": [],
   "source": [
    "y_train.to_csv(\"data/y_train.csv\",index=False)\n",
    "y_test.to_csv(\"data/y_test.csv\",index=False)"
   ],
   "metadata": {
    "collapsed": false,
    "ExecuteTime": {
     "end_time": "2023-07-24T10:20:35.893824400Z",
     "start_time": "2023-07-24T10:20:35.609784200Z"
    }
   }
  }
 ],
 "metadata": {
  "kernelspec": {
   "display_name": "Python 3",
   "language": "python",
   "name": "python3"
  },
  "language_info": {
   "codemirror_mode": {
    "name": "ipython",
    "version": 2
   },
   "file_extension": ".py",
   "mimetype": "text/x-python",
   "name": "python",
   "nbconvert_exporter": "python",
   "pygments_lexer": "ipython2",
   "version": "2.7.6"
  }
 },
 "nbformat": 4,
 "nbformat_minor": 0
}
